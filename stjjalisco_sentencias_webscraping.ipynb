{
 "cells": [
  {
   "cell_type": "code",
   "execution_count": 1,
   "metadata": {},
   "outputs": [],
   "source": [
    "import os\n",
    "import requests\n",
    "import unicodedata\n",
    "import re\n",
    "import time"
   ]
  },
  {
   "cell_type": "code",
   "execution_count": 2,
   "metadata": {},
   "outputs": [],
   "source": [
    "cwd = os.getcwd()\n",
    "path = os.path.dirname(os.path.dirname(cwd))\n",
    "os.chdir(path)"
   ]
  },
  {
   "cell_type": "code",
   "execution_count": 3,
   "metadata": {},
   "outputs": [
    {
     "data": {
      "text/plain": [
       "'/home/nacho/Documents/CESP/SPADE_mutiagents'"
      ]
     },
     "execution_count": 3,
     "metadata": {},
     "output_type": "execute_result"
    }
   ],
   "source": [
    "os.getcwd()"
   ]
  },
  {
   "cell_type": "code",
   "execution_count": 4,
   "metadata": {},
   "outputs": [
    {
     "data": {
      "text/plain": [
       "'/home/nacho/Documents/CESP/SPADE_mutiagents/dataset_stjjalisco_sentencias'"
      ]
     },
     "execution_count": 4,
     "metadata": {},
     "output_type": "execute_result"
    }
   ],
   "source": [
    "#If there is no such folder, the script will create one automatically\n",
    "folder_location = 'dataset_stjjalisco_sentencias'\n",
    "if not os.path.exists(folder_location):os.mkdir(folder_location)\n",
    "os.chdir(folder_location)\n",
    "os.getcwd()"
   ]
  },
  {
   "cell_type": "code",
   "execution_count": 5,
   "metadata": {},
   "outputs": [],
   "source": [
    "def slugify(value, allow_unicode=False):\n",
    "    \"\"\"\n",
    "    Taken from https://github.com/django/django/blob/master/django/utils/text.py\n",
    "    Convert to ASCII if 'allow_unicode' is False. Convert spaces or repeated\n",
    "    dashes to single dashes. Remove characters that aren't alphanumerics,\n",
    "    underscores, or hyphens. Convert to lowercase. Also strip leading and\n",
    "    trailing whitespace, dashes, and underscores.\n",
    "    \"\"\"\n",
    "    value = str(value)\n",
    "    if allow_unicode:\n",
    "        value = unicodedata.normalize('NFKC', value)\n",
    "    else:\n",
    "        value = unicodedata.normalize('NFKD', value).encode('ascii', 'ignore').decode('ascii')\n",
    "    value = re.sub(r'[^\\w\\s-]', '', value.lower())\n",
    "    return re.sub(r'[-\\s]+', '-', value).strip('-_')"
   ]
  },
  {
   "cell_type": "code",
   "execution_count": 6,
   "metadata": {},
   "outputs": [],
   "source": [
    "page_number = 1\n",
    "url = \"https://publica-sentencias-backend.stjjalisco.gob.mx/tocas?page=\" + str(page_number) + \"&sala_id=&numero=&periodo=&derivado=&delito_id=&materia_id=&nombre_delito=&accion_especifica_id=&accion_simultanea_id=\"\n",
    "page = requests.get(url)"
   ]
  },
  {
   "cell_type": "code",
   "execution_count": 7,
   "metadata": {},
   "outputs": [
    {
     "data": {
      "text/plain": [
       "dict_keys(['current_page', 'data', 'first_page_url', 'from', 'last_page', 'last_page_url', 'next_page_url', 'path', 'per_page', 'prev_page_url', 'to', 'total'])"
      ]
     },
     "execution_count": 7,
     "metadata": {},
     "output_type": "execute_result"
    }
   ],
   "source": [
    "page.json()['data']['tocas'].keys()"
   ]
  },
  {
   "cell_type": "code",
   "execution_count": 8,
   "metadata": {},
   "outputs": [
    {
     "name": "stdout",
     "output_type": "stream",
     "text": [
      "LESIONES A TITULO DE CULPA\n",
      "ACCIÓN DE PAGO\n",
      "LESIONES A TITULO DE CULPA Y DAÑO EN LAS COSAS A TITULO DE CULPA\n",
      "EJECUCIÓN DE FIDEICOMISO\n",
      "ACCIÓN DE PAGO\n",
      "ACCIÓN DE FIJACIÓN DE VISITAS Y CONVIVENCIA\n",
      "NULIDAD TESTAMENTO\n",
      "REVOCACIÓN DE DONACIÓN\n",
      "ACCIÓN DE CUMPLIMIENTO DE CONTRATO\n",
      "REAL HIPOTECARIA \n",
      "ACCIÓN DE DAÑO MORAL\n",
      "VENCIMIENTO ANTICIPADO DEL CONTRATO\n",
      "ACCIÓN DE CUMPLIMIENTO DE CONTRATO\n",
      "ACCIÓN DE NULIDAD\n",
      "ACCIÓN REIVINDICATORIA\n"
     ]
    }
   ],
   "source": [
    "for toca in page.json()['data']['tocas']['data']:\n",
    "    print(toca[\"delito_data\"][\"nombre\"])"
   ]
  },
  {
   "cell_type": "code",
   "execution_count": null,
   "metadata": {},
   "outputs": [],
   "source": [
    "last_page = page.json()['data']['tocas']['last_page']\n",
    "for page_number in range(1, last_page + 1):\n",
    "    page = requests.get(\"https://publica-sentencias-backend.stjjalisco.gob.mx/tocas?page=\" + str(page_number))\n",
    "    if page.status_code == 429:\n",
    "        time.sleep(int(page.headers['retry-after']))\n",
    "    else:\n",
    "        for toca in page.json()['data']['tocas']['data']:\n",
    "            try:\n",
    "                toca_file_response = requests.get(\"https://publica-sentencias-backend.stjjalisco.gob.mx/toca/\" + str(toca[\"id\"]) + \"/file\")\n",
    "                if toca[\"accion_especifica_data\"] is None and toca[\"accion_simultanea_data\"] is None:\n",
    "                    toca_file_filename = toca[\"fecha_publicacion\"] + str(\"_\") + toca[\"materia_data\"][\"nombre\"] + str(\"_\") + toca[\"delito_data\"][\"nombre\"]\n",
    "                elif toca[\"accion_especifica_data\"] is not None and toca[\"accion_simultanea_data\"] is not None:\n",
    "                    toca_file_filename = toca[\"fecha_publicacion\"] + str(\"_\") + toca[\"materia_data\"][\"nombre\"] + str(\"_\") + toca[\"delito_data\"][\"nombre\"] + str(\"_\") + toca[\"accion_especifica_data\"]['nombre'] + str(\"_\") + toca[\"accion_simultanea_data\"]['nombre']\n",
    "                elif toca[\"accion_especifica_data\"] is not None and toca[\"accion_simultanea_data\"] is None:\n",
    "                    toca_file_filename = toca[\"fecha_publicacion\"] + str(\"_\") + toca[\"materia_data\"][\"nombre\"] + str(\"_\") + toca[\"delito_data\"][\"nombre\"] + str(\"_\") + toca[\"accion_especifica_data\"]['nombre']\n",
    "                elif toca[\"accion_especifica_data\"] is None and toca[\"accion_simultanea_data\"] is not None:\n",
    "                    toca_file_filename = toca[\"fecha_publicacion\"] + str(\"_\") + toca[\"materia_data\"][\"nombre\"] + str(\"_\") + toca[\"delito_data\"][\"nombre\"] + str(\"_\") + toca[\"accion_simultanea_data\"]['nombre']\n",
    "            except TypeError:\n",
    "                pass\n",
    "            finally:\n",
    "                with open(slugify(toca_file_filename) + '.pdf', 'wb') as f:\n",
    "                        f.write(toca_file_response.content)"
   ]
  },
  {
   "cell_type": "code",
   "execution_count": null,
   "metadata": {},
   "outputs": [],
   "source": [
    "last_page = page.json()['data']['tocas']['last_page']\n",
    "for page_number in range(1, last_page + 1):\n",
    "    page = requests.get(\"https://publica-sentencias-backend.stjjalisco.gob.mx/tocas?page=\" + str(page_number))\n",
    "    if page.status_code == 429:\n",
    "        time.sleep(int(page.headers['retry-after']))\n",
    "    else:\n",
    "        for toca in page.json()['data']['tocas']['data']:\n",
    "            try:\n",
    "                if toca[\"delito_data\"][\"nombre\"] == 'FEMINICIDIO':\n",
    "                # if toca[\"materia_data\"][\"nombre\"] == 'Penal':\n",
    "                    toca_file_response = requests.get(\"https://publica-sentencias-backend.stjjalisco.gob.mx/toca/\" + str(toca[\"id\"]) + \"/file\")\n",
    "                    if toca[\"accion_especifica_data_id\"] is None and toca[\"accion_simultanea_data_id\"] is None:\n",
    "                        toca_file_filename = toca[\"fecha_publicacion\"] + str(\"_\") + toca[\"materia_data\"][\"nombre\"] + str(\"_\") + toca[\"delito_data\"][\"nombre\"]\n",
    "                    elif toca[\"accion_especifica_data_id\"] is not None and toca[\"accion_simultanea_data_id\"] is not None:\n",
    "                        toca_file_filename = toca[\"fecha_publicacion\"] + str(\"_\") + toca[\"materia_data\"][\"nombre\"] + str(\"_\") + toca[\"delito_data\"][\"nombre\"] + str(\"_\") + toca[\"accion_especifica_data_id\"]['nombre'] + str(\"_\") + toca[\"accion_simultanea_data_id\"]['nombre']\n",
    "                    elif toca[\"accion_especifica_data_id\"] is not None and toca[\"accion_simultanea_data_id\"] is None:\n",
    "                        toca_file_filename = toca[\"fecha_publicacion\"] + str(\"_\") + toca[\"materia_data\"][\"nombre\"] + str(\"_\") + toca[\"delito_data\"][\"nombre\"] + str(\"_\") + toca[\"accion_especifica_data_id\"]['nombre']\n",
    "                    elif toca[\"accion_especifica_data_id\"] is None and toca[\"accion_simultanea_data_id\"] is not None:\n",
    "                        toca_file_filename = toca[\"fecha_publicacion\"] + str(\"_\") + toca[\"materia_data\"][\"nombre\"] + str(\"_\") + toca[\"delito_data\"][\"nombre\"] + str(\"_\") + toca[\"accion_simultanea_data_id\"]['nombre']\n",
    "            except TypeError:\n",
    "                pass\n",
    "            finally:\n",
    "                with open(slugify(toca_file_filename) + '.pdf', 'wb') as f:\n",
    "                    f.write(toca_file_response.content)"
   ]
  },
  {
   "cell_type": "code",
   "execution_count": null,
   "metadata": {},
   "outputs": [],
   "source": []
  }
 ],
 "metadata": {
  "interpreter": {
   "hash": "15e500a199f3e8676fe03a398bbb6804dd9a07d21da6a9e572840b053dd24fb6"
  },
  "kernelspec": {
   "display_name": "Python 3.6.13 64-bit ('spade': conda)",
   "name": "python3"
  },
  "language_info": {
   "codemirror_mode": {
    "name": "ipython",
    "version": 3
   },
   "file_extension": ".py",
   "mimetype": "text/x-python",
   "name": "python",
   "nbconvert_exporter": "python",
   "pygments_lexer": "ipython3",
   "version": "3.9.7"
  },
  "orig_nbformat": 4
 },
 "nbformat": 4,
 "nbformat_minor": 2
}
