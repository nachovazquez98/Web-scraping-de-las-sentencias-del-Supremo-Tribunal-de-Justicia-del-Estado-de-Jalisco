{
 "cells": [
  {
   "cell_type": "code",
   "execution_count": 2,
   "metadata": {},
   "outputs": [],
   "source": [
    "import os\n",
    "import requests\n",
    "import unicodedata\n",
    "import re\n",
    "import time"
   ]
  },
  {
   "cell_type": "code",
   "execution_count": 3,
   "metadata": {},
   "outputs": [],
   "source": [
    "cwd = os.getcwd()\n",
    "# path = os.path.dirname(os.path.dirname(cwd))\n",
    "path = '/home/nacho/Documents/stjjalisco_sentencias_webscraping'\n",
    "os.chdir(path)"
   ]
  },
  {
   "cell_type": "code",
   "execution_count": 4,
   "metadata": {},
   "outputs": [
    {
     "data": {
      "text/plain": [
       "'/home/nacho/Documents/stjjalisco_sentencias_webscraping'"
      ]
     },
     "execution_count": 4,
     "metadata": {},
     "output_type": "execute_result"
    }
   ],
   "source": [
    "os.getcwd()"
   ]
  },
  {
   "cell_type": "code",
   "execution_count": 5,
   "metadata": {},
   "outputs": [
    {
     "data": {
      "text/plain": [
       "'/home/nacho/Documents/stjjalisco_sentencias_webscraping/dataset_stjjalisco_sentencias'"
      ]
     },
     "execution_count": 5,
     "metadata": {},
     "output_type": "execute_result"
    }
   ],
   "source": [
    "#carpeta de descarga del dataset\n",
    "folder_location = 'dataset_stjjalisco_sentencias'\n",
    "if not os.path.exists(folder_location):os.mkdir(folder_location)\n",
    "os.chdir(folder_location)\n",
    "os.getcwd()"
   ]
  },
  {
   "cell_type": "code",
   "execution_count": 6,
   "metadata": {},
   "outputs": [],
   "source": [
    "def slugify(value, allow_unicode=False):\n",
    "    \"\"\"\n",
    "    Taken from https://github.com/django/django/blob/master/django/utils/text.py\n",
    "    Convert to ASCII if 'allow_unicode' is False. Convert spaces or repeated\n",
    "    dashes to single dashes. Remove characters that aren't alphanumerics,\n",
    "    underscores, or hyphens. Convert to lowercase. Also strip leading and\n",
    "    trailing whitespace, dashes, and underscores.\n",
    "    \"\"\"\n",
    "    value = str(value)\n",
    "    if allow_unicode:\n",
    "        value = unicodedata.normalize('NFKC', value)\n",
    "    else:\n",
    "        value = unicodedata.normalize('NFKD', value).encode('ascii', 'ignore').decode('ascii')\n",
    "    value = re.sub(r'[^\\w\\s-]', '', value.lower())\n",
    "    return re.sub(r'[-\\s]+', '-', value).strip('-_')"
   ]
  },
  {
   "cell_type": "code",
   "execution_count": 7,
   "metadata": {},
   "outputs": [],
   "source": [
    "page_number = 0\n",
    "url = \"https://publica-sentencias-backend.stjjalisco.gob.mx/tocas?page=\" + str(page_number) + \"&sala_id=&numero=&periodo=&derivado=&delito_id=&materia_id=&nombre_delito=&accion_especifica_id=&accion_simultanea_id=\"\n",
    "page = requests.get(url)"
   ]
  },
  {
   "cell_type": "code",
   "execution_count": 8,
   "metadata": {},
   "outputs": [
    {
     "data": {
      "text/plain": [
       "dict_keys(['current_page', 'data', 'first_page_url', 'from', 'last_page', 'last_page_url', 'next_page_url', 'path', 'per_page', 'prev_page_url', 'to', 'total'])"
      ]
     },
     "execution_count": 8,
     "metadata": {},
     "output_type": "execute_result"
    }
   ],
   "source": [
    "page.json()['data']['tocas'].keys()"
   ]
  },
  {
   "cell_type": "code",
   "execution_count": 9,
   "metadata": {},
   "outputs": [
    {
     "name": "stdout",
     "output_type": "stream",
     "text": [
      "41279 5 13 Civil ACCIÓN DE NULIDAD\n",
      "41280 5 13 Civil ACCIÓN DE RESPONSABILIDAD CIVIL OBJETIVA\n",
      "41281 5 13 Civil ACCIÓN DE USUCAPIÓN\n",
      "41282 5 13 Mercantil ACCIÓN DE NULIDAD\n",
      "41283 5 13 Civil ACCIÓN RESCISIÓN DE CONTRATO DE COMPRAVENTA\n",
      "41284 5 13 Civil ACCIÓN DE TERMINACIÓN DE CONTRATO DE ARRENDAMIENTO\n",
      "41285 5 13 Civil ACCIÓN PROFORMA\n",
      "41286 5 13 Civil OTRAS\n",
      "41287 5 13 Mercantil ACCIÓN CAMBIARIA DIRECTA\n",
      "41288 5 13 Familiar DIVORCIO\n",
      "41289 5 13 Mercantil ACCIÓN CAMBIARIA DIRECTA\n",
      "41290 5 13 Familiar DIVORCIO\n",
      "41291 5 13 Mercantil ACCIÓN CAMBIARIA DIRECTA\n",
      "41292 5 13 Civil TERCERIA EXCLUYENTE DE DOMINIO\n",
      "41293 5 13 Familiar DIVORCIO\n"
     ]
    }
   ],
   "source": [
    "for toca in page.json()['data']['tocas']['data']:\n",
    "    print(toca['id'], toca['sala_id'], toca['magistrado_id'], toca[\"materia_data\"][\"nombre\"], toca[\"delito_data\"][\"nombre\"])"
   ]
  },
  {
   "cell_type": "code",
   "execution_count": 10,
   "metadata": {},
   "outputs": [
    {
     "name": "stdout",
     "output_type": "stream",
     "text": [
      "{'id': 41279, 'sala_id': 5, 'magistrado_id': 13, 'user_id': 15, 'tipo_juicio_id': 1, 'sentido_id': 2, 'tipo_sentencia': 1, 'resolucion': None, 'materia_id': 1, 'delito_id': 929, 'accion_especifica_id': None, 'accion_simultanea_id': None, 'numero': 291, 'periodo': 2022, 'derivado': None, 'file': 'sala_5/41279.pdf', 'fecha_publicacion': '21-06-2022', 'perspectiva_genero': 2, 'principio_ninez': 2, 'menores': None, 'created_at': '2022-06-21 09:15:21', 'updated_at': '2022-06-21 09:15:21', 'deleted_at': None, 'salas_data': {'id': 5, 'nombre': 'QUINTA SALA ESPECIALIZADA EN MATERIA CIVIL', 'created_at': '2021-01-16 09:35:53', 'updated_at': '2021-01-16 09:35:53', 'deleted_at': None}, 'materia_data': {'id': 1, 'nombre': 'Civil', 'created_at': '2021-05-13 16:16:27', 'updated_at': '2021-05-13 16:16:27', 'deleted_at': None}, 'tipo_juicio_data': {'id': 1, 'materia_id': 1, 'nombre': 'CIVIL ORDINARIA', 'created_at': '2021-05-13 16:16:27', 'updated_at': '2021-05-13 16:16:27', 'deleted_at': None, 'materia_nombre': 'Civil'}, 'delito_data': {'id': 929, 'materia_id': 1, 'nombre': 'ACCIÓN DE NULIDAD', 'created_at': '2017-08-21 05:00:00', 'updated_at': '2017-08-21 05:00:00', 'deleted_at': None, 'materia_nombre': 'Civil'}, 'accion_especifica_data': None, 'accion_simultanea_data': None, 'sentido_data': {'id': 2, 'nombre': 'MODIFICAR', 'created_at': '2022-01-23 19:18:54', 'updated_at': '2022-01-23 19:18:54', 'deleted_at': None}}\n"
     ]
    }
   ],
   "source": [
    "toca = page.json()['data']['tocas']\n",
    "print(toca['data'][0])"
   ]
  },
  {
   "cell_type": "code",
   "execution_count": 11,
   "metadata": {},
   "outputs": [],
   "source": [
    "page_number = 0\n",
    "url = \"https://publica-sentencias-backend.stjjalisco.gob.mx/tocas?page=\" + str(page_number) + \"&sala_id=&numero=&periodo=&derivado=&delito_id=&materia_id=&nombre_delito=&accion_especifica_id=&accion_simultanea_id=\"\n",
    "page = requests.get(url)"
   ]
  },
  {
   "cell_type": "code",
   "execution_count": null,
   "metadata": {},
   "outputs": [],
   "source": [
    "last_page = page.json()['data']['tocas']['last_page']\n",
    "for page_number in range(0, last_page + 1):\n",
    "    try:\n",
    "        page = requests.get(\"https://publica-sentencias-backend.stjjalisco.gob.mx/tocas?page=\" + str(page_number))\n",
    "        if page.status_code == 429:\n",
    "            time.sleep(int(page.headers['retry-after']))\n",
    "        else:\n",
    "            for toca in page.json()['data']['tocas']['data']:\n",
    "                try:\n",
    "                    print(str(toca['id']) + str(\"_\") + str(toca['sala_id']) + str(\"_\") + str(toca['magistrado_id']) + str(\"_\") + str(toca[\"fecha_publicacion\"]) + str(\"_\") + str(toca[\"materia_data\"][\"nombre\"]) + str(\"_\") + str(toca[\"delito_data\"][\"nombre\"]))\n",
    "                    if toca[\"delito_data\"][\"nombre\"] == 'ACCIÓN DE NULIDAD':\n",
    "                    # if toca[\"delito_data\"][\"nombre\"] == 'ACCIÓN DE NULIDAD' and toca[\"materia_data\"][\"nombre\"] == 'Civil':\n",
    "                        toca_file_response = requests.get(\"https://publica-sentencias-backend.stjjalisco.gob.mx/toca/\" + str(toca[\"id\"]) + \"/file\")\n",
    "                        if toca[\"accion_especifica_id\"] is None and toca[\"accion_simultanea_id\"] is None:\n",
    "                            toca_file_filename = 'id-' + str(toca['id']) + str('_') + 'salaid-'+ str(toca['sala_id']) + str('_') + 'magistradoid-' + str(toca['magistrado_id']) + str('_') + str(toca[\"fecha_publicacion\"]) + str(\"_\") + str(toca[\"materia_data\"][\"nombre\"]) + str(\"_\") + str(toca[\"delito_data\"][\"nombre\"])\n",
    "                        elif toca[\"accion_especifica_id\"] is not None and toca[\"accion_simultanea_id\"] is not None:\n",
    "                            toca_file_filename = 'id-' + str(toca['id']) + str('_') + 'salaid-' + str(toca['sala_id']) + str('_') + 'magistradoid-' + str(toca['magistrado_id']) + str('_') + str(toca[\"fecha_publicacion\"]) + str(\"_\") + str(toca[\"materia_data\"][\"nombre\"]) + str(\"_\") + str(toca[\"delito_data\"][\"nombre\"]) + str(\"_\") + str(toca[\"accion_especifica_id\"]['nombre']) + str(\"_\") + str(toca[\"accion_simultanea_id\"]['nombre'])\n",
    "                        elif toca[\"accion_especifica_id\"] is not None and toca[\"accion_simultanea_id\"] is None:\n",
    "                            toca_file_filename = 'id-' + str(toca['id']) + str('_') + 'salaid-'+ str(toca['sala_id']) + str('_') + 'magistradoid-' + str(toca['magistrado_id']) + str('_') + str(toca[\"fecha_publicacion\"]) + str(\"_\") + str(toca[\"materia_data\"][\"nombre\"]) + str(\"_\") + str(toca[\"delito_data\"][\"nombre\"]) + str(\"_\") + str(toca[\"accion_especifica_id\"]['nombre'])\n",
    "                        elif toca[\"accion_especifica_id\"] is None and toca[\"accion_simultanea_id\"] is not None:\n",
    "                            toca_file_filename = 'id-' + str(toca['id']) + str('_') + 'salaid-'+ str(toca['sala_id']) + str('_') + 'magistradoid-' + str(toca['magistrado_id']) + str('_') + str(toca[\"fecha_publicacion\"]) + str(\"_\") + str(toca[\"materia_data\"][\"nombre\"]) + str(\"_\") + str(toca[\"delito_data\"][\"nombre\"]) + str(\"_\") + str(toca[\"accion_simultanea_id\"]['nombre'])\n",
    "                except TypeError:\n",
    "                    pass\n",
    "                finally:\n",
    "                    with open(slugify(toca_file_filename) + '.pdf', 'wb') as f:\n",
    "                        f.write(toca_file_response.content)   \n",
    "\n",
    "    except:\n",
    "        print(\"Connection refused by the server..\")\n",
    "        time.sleep(5)\n",
    "        print(\"continue...\")\n",
    "        continue"
   ]
  }
 ],
 "metadata": {
  "interpreter": {
   "hash": "15e500a199f3e8676fe03a398bbb6804dd9a07d21da6a9e572840b053dd24fb6"
  },
  "kernelspec": {
   "display_name": "Python 3.6.13 64-bit ('spade': conda)",
   "name": "python3"
  },
  "language_info": {
   "codemirror_mode": {
    "name": "ipython",
    "version": 3
   },
   "file_extension": ".py",
   "mimetype": "text/x-python",
   "name": "python",
   "nbconvert_exporter": "python",
   "pygments_lexer": "ipython3",
   "version": "3.9.7"
  },
  "orig_nbformat": 4
 },
 "nbformat": 4,
 "nbformat_minor": 2
}
